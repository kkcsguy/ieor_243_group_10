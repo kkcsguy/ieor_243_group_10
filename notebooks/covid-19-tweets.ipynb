{
 "cells": [
  {
   "cell_type": "markdown",
   "metadata": {},
   "source": [
    "## 1. Import packages"
   ]
  },
  {
   "cell_type": "code",
   "execution_count": 1,
   "metadata": {},
   "outputs": [
    {
     "name": "stdout",
     "output_type": "stream",
     "text": [
      "Requirement already satisfied: tweepy in /Users/kenmai/opt/anaconda3/lib/python3.8/site-packages (4.12.1)\n",
      "Requirement already satisfied: requests-oauthlib<2,>=1.2.0 in /Users/kenmai/opt/anaconda3/lib/python3.8/site-packages (from tweepy) (1.3.1)\n",
      "Requirement already satisfied: requests<3,>=2.27.0 in /Users/kenmai/opt/anaconda3/lib/python3.8/site-packages (from tweepy) (2.28.2)\n",
      "Requirement already satisfied: oauthlib<4,>=3.2.0 in /Users/kenmai/opt/anaconda3/lib/python3.8/site-packages (from tweepy) (3.2.2)\n",
      "Requirement already satisfied: urllib3<1.27,>=1.21.1 in /Users/kenmai/opt/anaconda3/lib/python3.8/site-packages (from requests<3,>=2.27.0->tweepy) (1.25.11)\n",
      "Requirement already satisfied: charset-normalizer<4,>=2 in /Users/kenmai/opt/anaconda3/lib/python3.8/site-packages (from requests<3,>=2.27.0->tweepy) (3.0.1)\n",
      "Requirement already satisfied: idna<4,>=2.5 in /Users/kenmai/opt/anaconda3/lib/python3.8/site-packages (from requests<3,>=2.27.0->tweepy) (2.10)\n",
      "Requirement already satisfied: certifi>=2017.4.17 in /Users/kenmai/opt/anaconda3/lib/python3.8/site-packages (from requests<3,>=2.27.0->tweepy) (2020.6.20)\n",
      "Note: you may need to restart the kernel to use updated packages.\n"
     ]
    }
   ],
   "source": [
    "pip install tweepy"
   ]
  },
  {
   "cell_type": "code",
   "execution_count": 178,
   "metadata": {},
   "outputs": [],
   "source": [
    "import os\n",
    "import tweepy as tw\n",
    "import pandas as pd\n",
    "from tqdm import tqdm, notebook\n",
    "\n",
    "pd.set_option('display.max_columns', None)\n",
    "pd.set_option('display.max_rows', None)\n",
    "pd.set_option('display.max_colwidth', None)\n",
    "pd.set_option('display.width', None)"
   ]
  },
  {
   "cell_type": "markdown",
   "metadata": {},
   "source": [
    "## 2. Twitter API authentication"
   ]
  },
  {
   "cell_type": "code",
   "execution_count": 179,
   "metadata": {},
   "outputs": [],
   "source": [
    "consumer_api_key = 'AphvFIN921yxdHCdVaTxVXwIT'\n",
    "consumer_api_secret = 'l22IYQxDZmOzPLTx2PBHt6JQBlpcZiNpHB3JaO0EwsBxZvv342'"
   ]
  },
  {
   "cell_type": "code",
   "execution_count": 180,
   "metadata": {},
   "outputs": [],
   "source": [
    "auth = tw.OAuthHandler(consumer_api_key, consumer_api_secret)"
   ]
  },
  {
   "cell_type": "code",
   "execution_count": 181,
   "metadata": {},
   "outputs": [],
   "source": [
    "api = tw.API(auth, wait_on_rate_limit=True)"
   ]
  },
  {
   "cell_type": "markdown",
   "metadata": {},
   "source": [
    "## 3. Tweets query\n",
    "\n",
    "### 3.1. Define the query"
   ]
  },
  {
   "cell_type": "code",
   "execution_count": 182,
   "metadata": {},
   "outputs": [],
   "source": [
    "tweets = tw.Cursor(api.search_tweets,q='#covid19 -filter:retweets',lang='en').items(30000)\n"
   ]
  },
  {
   "cell_type": "markdown",
   "metadata": {},
   "source": [
    "### 3.2. Retreive the tweets"
   ]
  },
  {
   "cell_type": "code",
   "execution_count": 183,
   "metadata": {
    "scrolled": false
   },
   "outputs": [
    {
     "name": "stderr",
     "output_type": "stream",
     "text": [
      "6464it [01:46, 57.20it/s]Rate limit reached. Sleeping for: 796\n",
      "13040it [16:47, 56.07it/s]Rate limit reached. Sleeping for: 798\n",
      "19675it [32:02, 69.20it/s]Rate limit reached. Sleeping for: 784\n",
      "24352it [46:32,  8.72it/s]\n"
     ]
    }
   ],
   "source": [
    "#sleep_on_rate_limit=False\n",
    "tweets_copy = []\n",
    "for tweet in tqdm(tweets):\n",
    "     tweets_copy.append(tweet)"
   ]
  },
  {
   "cell_type": "code",
   "execution_count": 184,
   "metadata": {},
   "outputs": [
    {
     "name": "stdout",
     "output_type": "stream",
     "text": [
      "new tweets retrieved: 24352\n"
     ]
    }
   ],
   "source": [
    "print(f\"new tweets retrieved: {len(tweets_copy)}\")"
   ]
  },
  {
   "cell_type": "markdown",
   "metadata": {},
   "source": [
    "## 4. Populate the dataset"
   ]
  },
  {
   "cell_type": "code",
   "execution_count": 185,
   "metadata": {
    "scrolled": false
   },
   "outputs": [
    {
     "name": "stderr",
     "output_type": "stream",
     "text": [
      "  4%|▎         | 900/24352 [01:47<47:24,  8.24it/s]  Rate limit reached. Sleeping for: 793\n",
      "  7%|▋         | 1800/24352 [16:49<44:34,  8.43it/s]     Rate limit reached. Sleeping for: 792\n",
      " 11%|█         | 2700/24352 [31:53<41:30,  8.69it/s]      Rate limit reached. Sleeping for: 790\n",
      " 15%|█▍        | 3600/24352 [46:52<39:55,  8.66it/s]      Rate limit reached. Sleeping for: 792\n",
      " 18%|█▊        | 4500/24352 [1:01:56<42:28,  7.79it/s]      Rate limit reached. Sleeping for: 789\n",
      " 22%|██▏       | 5400/24352 [1:16:58<36:46,  8.59it/s]      Rate limit reached. Sleeping for: 789\n",
      " 26%|██▌       | 6300/24352 [1:32:00<36:21,  8.28it/s]      Rate limit reached. Sleeping for: 788\n",
      " 30%|██▉       | 7200/24352 [1:47:01<34:07,  8.38it/s]      Rate limit reached. Sleeping for: 789\n",
      " 33%|███▎      | 8100/24352 [2:02:08<32:55,  8.22it/s]      Rate limit reached. Sleeping for: 783\n",
      " 37%|███▋      | 9000/24352 [2:17:07<31:54,  8.02it/s]      Rate limit reached. Sleeping for: 785\n",
      " 41%|████      | 9900/24352 [2:32:10<36:13,  6.65it/s]      Rate limit reached. Sleeping for: 783\n",
      " 44%|████▍     | 10800/24352 [2:47:09<28:19,  7.97it/s]    Rate limit reached. Sleeping for: 785\n",
      " 48%|████▊     | 11700/24352 [3:02:13<29:23,  7.17it/s]     Rate limit reached. Sleeping for: 782\n",
      " 52%|█████▏    | 12600/24352 [3:17:14<25:09,  7.78it/s]     Rate limit reached. Sleeping for: 782\n",
      " 55%|█████▌    | 13500/24352 [3:32:15<23:39,  7.64it/s]     Rate limit reached. Sleeping for: 782\n",
      " 59%|█████▉    | 14400/24352 [3:47:17<21:02,  7.88it/s]     Rate limit reached. Sleeping for: 781\n",
      " 63%|██████▎   | 15300/24352 [4:02:23<19:55,  7.57it/s]     Rate limit reached. Sleeping for: 777\n",
      " 67%|██████▋   | 16200/24352 [4:17:21<18:08,  7.49it/s]     Rate limit reached. Sleeping for: 780\n",
      " 70%|███████   | 17100/24352 [4:32:22<16:27,  7.34it/s]     Rate limit reached. Sleeping for: 780\n",
      " 74%|███████▍  | 18000/24352 [4:47:26<13:53,  7.62it/s]     Rate limit reached. Sleeping for: 777\n",
      " 78%|███████▊  | 18900/24352 [5:02:26<12:08,  7.48it/s]     Rate limit reached. Sleeping for: 778\n",
      " 81%|████████▏ | 19800/24352 [5:17:30<10:24,  7.29it/s]     Rate limit reached. Sleeping for: 776\n",
      " 85%|████████▌ | 20700/24352 [5:32:30<08:12,  7.41it/s]     Rate limit reached. Sleeping for: 777\n",
      " 89%|████████▊ | 21600/24352 [5:47:37<06:22,  7.20it/s]     Rate limit reached. Sleeping for: 772\n",
      " 92%|█████████▏| 22500/24352 [6:02:40<04:38,  6.65it/s]     Rate limit reached. Sleeping for: 770\n",
      " 96%|█████████▌| 23400/24352 [6:17:42<02:19,  6.81it/s]     Rate limit reached. Sleeping for: 769\n",
      "100%|█████████▉| 24300/24352 [6:32:43<00:07,  6.99it/s]    Rate limit reached. Sleeping for: 769\n",
      "100%|██████████| 24352/24352 [6:45:41<00:00,  1.00it/s]   \n"
     ]
    }
   ],
   "source": [
    "tweets_df = pd.DataFrame()\n",
    "for tweet in tqdm(tweets_copy):\n",
    "    hashtags = []\n",
    "    try:\n",
    "        for hashtag in tweet.entities[\"hashtags\"]:\n",
    "            hashtags.append(hashtag[\"text\"])\n",
    "        text = api.get_status(id=tweet.id, tweet_mode='extended').full_text\n",
    "    except:\n",
    "        pass\n",
    "    tweets_df = tweets_df.append(pd.DataFrame({'user_name': tweet.user.name, \n",
    "                                               'user_location': tweet.user.location,\\\n",
    "                                               'user_description': tweet.user.description,\n",
    "                                               'user_created': tweet.user.created_at,\n",
    "                                               'user_followers': tweet.user.followers_count,\n",
    "                                               'user_friends': tweet.user.friends_count,\n",
    "                                               'user_favourites': tweet.user.favourites_count,\n",
    "                                               'user_verified': tweet.user.verified,\n",
    "                                               'date': tweet.created_at,\n",
    "                                               'text': text, \n",
    "                                               'hashtags': [hashtags if hashtags else None],\n",
    "                                               'source': tweet.source,\n",
    "                                               'is_retweet': tweet.retweeted}, index=[0]))"
   ]
  },
  {
   "cell_type": "code",
   "execution_count": 186,
   "metadata": {},
   "outputs": [
    {
     "data": {
      "text/html": [
       "<div>\n",
       "<style scoped>\n",
       "    .dataframe tbody tr th:only-of-type {\n",
       "        vertical-align: middle;\n",
       "    }\n",
       "\n",
       "    .dataframe tbody tr th {\n",
       "        vertical-align: top;\n",
       "    }\n",
       "\n",
       "    .dataframe thead th {\n",
       "        text-align: right;\n",
       "    }\n",
       "</style>\n",
       "<table border=\"1\" class=\"dataframe\">\n",
       "  <thead>\n",
       "    <tr style=\"text-align: right;\">\n",
       "      <th></th>\n",
       "      <th>user_name</th>\n",
       "      <th>user_location</th>\n",
       "      <th>user_description</th>\n",
       "      <th>user_created</th>\n",
       "      <th>user_followers</th>\n",
       "      <th>user_friends</th>\n",
       "      <th>user_favourites</th>\n",
       "      <th>user_verified</th>\n",
       "      <th>date</th>\n",
       "      <th>text</th>\n",
       "      <th>hashtags</th>\n",
       "      <th>source</th>\n",
       "      <th>is_retweet</th>\n",
       "    </tr>\n",
       "  </thead>\n",
       "  <tbody>\n",
       "    <tr>\n",
       "      <th>0</th>\n",
       "      <td>dixonsgtusmc@yahoo.com</td>\n",
       "      <td>WYOMING</td>\n",
       "      <td>Human mind kind OF miniature representation_aeons_emanate from_ultimate God… reason, Gnostic could also contemplate God by contemplating HER-his own intellect!!</td>\n",
       "      <td>2021-10-15 04:25:57+00:00</td>\n",
       "      <td>889</td>\n",
       "      <td>1452</td>\n",
       "      <td>2021</td>\n",
       "      <td>False</td>\n",
       "      <td>2023-01-29 23:32:24+00:00</td>\n",
       "      <td>1's Tweets SAYING THAT LONGER,that why DOJ FBI FDA REFUSE 2 RELEASE-BEST ANSWER @techreview  be APART KEEPING BEST GOD's CREATED HERB BEING APPROVE! \\nDr. Thomas Ichim\\n@exosome $RVVTF makes #bucillamine 4 #COVID19 \\n#coronavirus messes up endothelial cells https://t.co/qrvJoQ7rmT..</td>\n",
       "      <td>None</td>\n",
       "      <td>Twitter Web App</td>\n",
       "      <td>False</td>\n",
       "    </tr>\n",
       "    <tr>\n",
       "      <th>0</th>\n",
       "      <td>COVID Scale</td>\n",
       "      <td>Earth</td>\n",
       "      <td>A bot designed to put the #COVID19 pandemic's effect on the United States into historical perspective. Stats from @Worldometers</td>\n",
       "      <td>2017-09-15 19:54:39+00:00</td>\n",
       "      <td>1342</td>\n",
       "      <td>3</td>\n",
       "      <td>6</td>\n",
       "      <td>False</td>\n",
       "      <td>2023-01-29 23:30:41+00:00</td>\n",
       "      <td>Since the start of the pandemic, 1,132,256 Americans have died from #COVID19 (16.8% of all deaths worldwide). That is about the same as 3,560 1993 Storm of the Centurys which killed 318 people in 1993: https://t.co/rwPHiBdxoj</td>\n",
       "      <td>[COVID19]</td>\n",
       "      <td>HN_Comments</td>\n",
       "      <td>False</td>\n",
       "    </tr>\n",
       "    <tr>\n",
       "      <th>0</th>\n",
       "      <td>TruthWins1984</td>\n",
       "      <td>The Free World Order</td>\n",
       "      <td>Long time critical thinker. Stay awake not woke, and just say no to #CBDC.</td>\n",
       "      <td>2023-01-29 21:38:04+00:00</td>\n",
       "      <td>5</td>\n",
       "      <td>44</td>\n",
       "      <td>27</td>\n",
       "      <td>False</td>\n",
       "      <td>2023-01-29 23:20:14+00:00</td>\n",
       "      <td>This type of BS propaganda would be absolutely laughable if it wasn't so deliberately evil.\\n\\n#WEF #pandemic #COVID19 #MSM https://t.co/wRfEXSns5v</td>\n",
       "      <td>[WEF, pandemic]</td>\n",
       "      <td>Twitter Web App</td>\n",
       "      <td>False</td>\n",
       "    </tr>\n",
       "    <tr>\n",
       "      <th>0</th>\n",
       "      <td>The Epoch Times</td>\n",
       "      <td>New York, USA</td>\n",
       "      <td>Independent, award-winning reporting based on Truth and Tradition. Newsletters: https://t.co/0F3JANwb8P | Watch: https://t.co/M1G2gEVJmq | Play: https://t.co/pDrVrN4Qcy</td>\n",
       "      <td>2009-04-05 23:54:55+00:00</td>\n",
       "      <td>576863</td>\n",
       "      <td>101</td>\n",
       "      <td>56174</td>\n",
       "      <td>True</td>\n",
       "      <td>2023-01-29 22:50:30+00:00</td>\n",
       "      <td>The #CCP never ceased its persecution of #FalunGong adherents during its 3 years of #COVID19 lockdowns.\\n\\n2 elderly Falun Gong adherents recently lost their lives after years of suffering under persecution from the regime. https://t.co/345l3QTjmS</td>\n",
       "      <td>[CCP, FalunGong, COVID19]</td>\n",
       "      <td>Twitter Web App</td>\n",
       "      <td>False</td>\n",
       "    </tr>\n",
       "    <tr>\n",
       "      <th>0</th>\n",
       "      <td>DerekKissach</td>\n",
       "      <td>Sussex</td>\n",
       "      <td>Politics is about lying to us and sneering at us from an invented moral highground. Brexit and Trump is the result.</td>\n",
       "      <td>2009-08-17 01:06:33+00:00</td>\n",
       "      <td>94</td>\n",
       "      <td>114</td>\n",
       "      <td>21376</td>\n",
       "      <td>False</td>\n",
       "      <td>2023-01-29 22:48:19+00:00</td>\n",
       "      <td>@MikeHudema #COVID19 #Pfizer #HarrisonFord _ The actor Harrison Ford, proving actors need a script. Or has he just crashed another plane?\\nWho knows.</td>\n",
       "      <td>[COVID19, Pfizer, HarrisonFord]</td>\n",
       "      <td>Twitter Web App</td>\n",
       "      <td>False</td>\n",
       "    </tr>\n",
       "  </tbody>\n",
       "</table>\n",
       "</div>"
      ],
      "text/plain": [
       "                user_name         user_location  \\\n",
       "0  dixonsgtusmc@yahoo.com               WYOMING   \n",
       "0             COVID Scale                 Earth   \n",
       "0           TruthWins1984  The Free World Order   \n",
       "0         The Epoch Times         New York, USA   \n",
       "0            DerekKissach                Sussex   \n",
       "\n",
       "                                                                                                                                                           user_description  \\\n",
       "0          Human mind kind OF miniature representation_aeons_emanate from_ultimate God… reason, Gnostic could also contemplate God by contemplating HER-his own intellect!!   \n",
       "0                                           A bot designed to put the #COVID19 pandemic's effect on the United States into historical perspective. Stats from @Worldometers   \n",
       "0                                                                                                Long time critical thinker. Stay awake not woke, and just say no to #CBDC.   \n",
       "0  Independent, award-winning reporting based on Truth and Tradition. Newsletters: https://t.co/0F3JANwb8P | Watch: https://t.co/M1G2gEVJmq | Play: https://t.co/pDrVrN4Qcy   \n",
       "0                                                       Politics is about lying to us and sneering at us from an invented moral highground. Brexit and Trump is the result.   \n",
       "\n",
       "               user_created  user_followers  user_friends  user_favourites  \\\n",
       "0 2021-10-15 04:25:57+00:00             889          1452             2021   \n",
       "0 2017-09-15 19:54:39+00:00            1342             3                6   \n",
       "0 2023-01-29 21:38:04+00:00               5            44               27   \n",
       "0 2009-04-05 23:54:55+00:00          576863           101            56174   \n",
       "0 2009-08-17 01:06:33+00:00              94           114            21376   \n",
       "\n",
       "   user_verified                      date  \\\n",
       "0          False 2023-01-29 23:32:24+00:00   \n",
       "0          False 2023-01-29 23:30:41+00:00   \n",
       "0          False 2023-01-29 23:20:14+00:00   \n",
       "0           True 2023-01-29 22:50:30+00:00   \n",
       "0          False 2023-01-29 22:48:19+00:00   \n",
       "\n",
       "                                                                                                                                                                                                                                                                                          text  \\\n",
       "0  1's Tweets SAYING THAT LONGER,that why DOJ FBI FDA REFUSE 2 RELEASE-BEST ANSWER @techreview  be APART KEEPING BEST GOD's CREATED HERB BEING APPROVE! \\nDr. Thomas Ichim\\n@exosome $RVVTF makes #bucillamine 4 #COVID19 \\n#coronavirus messes up endothelial cells https://t.co/qrvJoQ7rmT..   \n",
       "0                                                            Since the start of the pandemic, 1,132,256 Americans have died from #COVID19 (16.8% of all deaths worldwide). That is about the same as 3,560 1993 Storm of the Centurys which killed 318 people in 1993: https://t.co/rwPHiBdxoj   \n",
       "0                                                                                                                                          This type of BS propaganda would be absolutely laughable if it wasn't so deliberately evil.\\n\\n#WEF #pandemic #COVID19 #MSM https://t.co/wRfEXSns5v   \n",
       "0                                      The #CCP never ceased its persecution of #FalunGong adherents during its 3 years of #COVID19 lockdowns.\\n\\n2 elderly Falun Gong adherents recently lost their lives after years of suffering under persecution from the regime. https://t.co/345l3QTjmS   \n",
       "0                                                                                                                                        @MikeHudema #COVID19 #Pfizer #HarrisonFord _ The actor Harrison Ford, proving actors need a script. Or has he just crashed another plane?\\nWho knows.   \n",
       "\n",
       "                          hashtags           source  is_retweet  \n",
       "0                             None  Twitter Web App       False  \n",
       "0                        [COVID19]      HN_Comments       False  \n",
       "0                  [WEF, pandemic]  Twitter Web App       False  \n",
       "0        [CCP, FalunGong, COVID19]  Twitter Web App       False  \n",
       "0  [COVID19, Pfizer, HarrisonFord]  Twitter Web App       False  "
      ]
     },
     "execution_count": 186,
     "metadata": {},
     "output_type": "execute_result"
    }
   ],
   "source": [
    "tweets_df.tail()"
   ]
  },
  {
   "cell_type": "code",
   "execution_count": 187,
   "metadata": {},
   "outputs": [],
   "source": [
    "tweets_df.to_csv(\"covid19_2023.csv\", index=False)"
   ]
  },
  {
   "cell_type": "markdown",
   "metadata": {},
   "source": [
    "## 5. Save the data\n",
    "\n",
    "### 5.1. Read past data"
   ]
  },
  {
   "cell_type": "code",
   "execution_count": 11,
   "metadata": {},
   "outputs": [
    {
     "name": "stdout",
     "output_type": "stream",
     "text": [
      "past tweets: (168264, 13)\n"
     ]
    },
    {
     "name": "stderr",
     "output_type": "stream",
     "text": [
      "/anaconda3/lib/python3.6/site-packages/IPython/core/interactiveshell.py:3020: DtypeWarning: Columns (7,12) have mixed types. Specify dtype option on import or set low_memory=False.\n",
      "  interactivity=interactivity, compiler=compiler, result=result)\n"
     ]
    }
   ],
   "source": [
    "tweets_old_df = pd.read_csv(\"covid19_tweets.csv\")\n",
    "print(f\"past tweets: {tweets_old_df.shape}\")"
   ]
  },
  {
   "cell_type": "markdown",
   "metadata": {},
   "source": [
    "### 5.2. Merge past and present data"
   ]
  },
  {
   "cell_type": "code",
   "execution_count": 12,
   "metadata": {},
   "outputs": [
    {
     "name": "stdout",
     "output_type": "stream",
     "text": [
      "new tweets: 12452 past tweets: 168264 all tweets: 180716\n"
     ]
    }
   ],
   "source": [
    "tweets_all_df = pd.concat([tweets_old_df, tweets_df], axis=0)\n",
    "print(f\"new tweets: {tweets_df.shape[0]} past tweets: {tweets_old_df.shape[0]} all tweets: {tweets_all_df.shape[0]}\")"
   ]
  },
  {
   "cell_type": "markdown",
   "metadata": {},
   "source": [
    "### 5.3. Drop duplicates"
   ]
  },
  {
   "cell_type": "code",
   "execution_count": 13,
   "metadata": {},
   "outputs": [
    {
     "name": "stdout",
     "output_type": "stream",
     "text": [
      "all tweets: (180716, 13)\n"
     ]
    }
   ],
   "source": [
    "tweets_all_df.drop_duplicates(subset = [\"user_name\", \"date\", \"text\"], inplace=True)\n",
    "print(f\"all tweets: {tweets_all_df.shape}\")"
   ]
  },
  {
   "cell_type": "markdown",
   "metadata": {},
   "source": [
    "### 5.4. Export the updated data"
   ]
  },
  {
   "cell_type": "code",
   "execution_count": 14,
   "metadata": {},
   "outputs": [],
   "source": [
    "tweets_all_df.to_csv(\"covid19_tweets.csv\", index=False)"
   ]
  }
 ],
 "metadata": {
  "kernelspec": {
   "display_name": "Python 3",
   "language": "python",
   "name": "python3"
  },
  "language_info": {
   "codemirror_mode": {
    "name": "ipython",
    "version": 3
   },
   "file_extension": ".py",
   "mimetype": "text/x-python",
   "name": "python",
   "nbconvert_exporter": "python",
   "pygments_lexer": "ipython3",
   "version": "3.8.5"
  }
 },
 "nbformat": 4,
 "nbformat_minor": 4
}
